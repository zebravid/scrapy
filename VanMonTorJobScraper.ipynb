{
 "cells": [
  {
   "cell_type": "code",
   "execution_count": 11,
   "metadata": {},
   "outputs": [
    {
     "data": {
      "text/plain": [
       "'3.5.2'"
      ]
     },
     "execution_count": 11,
     "metadata": {},
     "output_type": "execute_result"
    }
   ],
   "source": [
    "# coding: utf-8\n",
    "\n",
    "# In[1]:\n",
    "\n",
    "\n",
    "\n",
    "\n",
    "# In[1]:\n",
    "get_ipython().magic(u'matplotlib inline')\n",
    "\n",
    "# Settings for notebook\n",
    "from IPython.core.interactiveshell import InteractiveShell\n",
    "InteractiveShell.ast_node_interactivity = \"all\"\n",
    "# Show Python version\n",
    "import platform\n",
    "platform.python_version()\n",
    "\n",
    "\n",
    "# In[2]:"
   ]
  },
  {
   "cell_type": "code",
   "execution_count": 12,
   "metadata": {},
   "outputs": [],
   "source": [
    "# In[2]:\n",
    "\n",
    "\n",
    "try:\n",
    "    import scrapy\n",
    "except:\n",
    "    get_ipython().system('python3 -m pip install scrapy')\n",
    "    import scrapy\n",
    "from scrapy.crawler import CrawlerProcess\n",
    "class DmozItem(scrapy.Item):\n",
    "    date=scrapy.Field()\n",
    "    title = scrapy.Field()\n",
    "    studio=scrapy.Field()\n",
    "\n",
    "\n",
    "# In[3]:"
   ]
  },
  {
   "cell_type": "code",
   "execution_count": 13,
   "metadata": {},
   "outputs": [],
   "source": [
    "# In[3]:\n",
    "\n",
    "\n",
    "import json\n",
    "\n",
    "class JsonWriterPipeline2(object):\n",
    "\n",
    "    def open_spider(self, spider):\n",
    "        self.file = open('quoterest2.jl', 'w+')\n",
    "\n",
    "    def close_spider(self, spider):\n",
    "        self.file.close()\n",
    "\n",
    "    def process_item(self, item, spider):\n",
    "        line = json.dumps(dict(item)) + \"\\n\"\n",
    "        self.file.write(line)\n",
    "        return item\n",
    "\n",
    "\n",
    "# In[4]:"
   ]
  },
  {
   "cell_type": "code",
   "execution_count": 14,
   "metadata": {},
   "outputs": [],
   "source": [
    "# In[4]:\n",
    "\n",
    "\n",
    "class JsonWriterPipeline(object):\n",
    "\n",
    "    def open_spider(self, spider):\n",
    "        self.file = open('quoterest.jl', 'w+')\n",
    "\n",
    "    def close_spider(self, spider):\n",
    "        self.file.close()\n",
    "\n",
    "    def process_item(self, item, spider):\n",
    "        line = json.dumps(dict(item)) + \"\\n\"\n",
    "        self.file.write(line)\n",
    "        return item\n",
    "\n",
    "\n",
    "# In[5]:"
   ]
  },
  {
   "cell_type": "code",
   "execution_count": 15,
   "metadata": {},
   "outputs": [],
   "source": [
    "# In[5]:\n",
    "\n",
    "\n",
    "class JsonWriterPipeline3(object):\n",
    "\n",
    "    def open_spider(self, spider):\n",
    "        self.file = open('quoterest3.jl', 'w+')\n",
    "\n",
    "    def close_spider(self, spider):\n",
    "        self.file.close()\n",
    "\n",
    "    def process_item(self, item, spider):\n",
    "        line = json.dumps(dict(item)) + \"\\n\"\n",
    "        self.file.write(line)\n",
    "        return item"
   ]
  },
  {
   "cell_type": "code",
   "execution_count": 16,
   "metadata": {},
   "outputs": [],
   "source": [
    "# In[6]:\n",
    "\n",
    "\n",
    "import logging\n",
    "\n",
    "class QuotesSpiderVan(scrapy.Spider):\n",
    "    name = \"quotesVan\"\n",
    "    start_urls = [\n",
    "        'http://vfxvancouver.com/page/1/?s']\n",
    "    custom_settings = {\n",
    "        'LOG_LEVEL': logging.WARNING,\n",
    "        'ITEM_PIPELINES': {'__main__.JsonWriterPipeline3': 1}, # Used for pipeline 1\n",
    "        'FEED_FORMAT':'json',                                 # Used for pipeline 2\n",
    "        'FEED_URI': 'quoterest3.json'                        # Used for pipeline 2\n",
    "    }\n",
    "    \n",
    "    def parse(self, response):\n",
    "        for sel in response.xpath(\".//article[contains(@id, 'post')]\"):\n",
    "            print( sel)\n",
    "            item = DmozItem()\n",
    "            item[\"date\"] = sel.xpath('''.//div[@class='entry-meta']/data//text()''').extract()       \n",
    "            item[\"title\"]= sel.xpath(\".//h1[@class='entry-title']/a/text()\").extract()\n",
    "            item[\"studio\"]= sel.xpath(\".//a[@class='author-link']/@href\").extract()\n",
    "\n",
    "            print( item)\n",
    "            if len(item[\"date\"])==0:\n",
    "                item[\"date\"].append(\"jan 1, 2018\")\n",
    "            if len(item[\"title\"])==0:\n",
    "                item[\"title\"].append(\"none\")\n",
    "            if len(item[\"studio\"])==0:\n",
    "                item[\"studio\"].append(\"none\")      \n",
    "            dat=item[\"date\"][0]\n",
    "            ti=item[\"title\"][0]\n",
    "            st=item[\"studio\"][0]\n",
    "\n",
    "            \n",
    "            yield {'date':dat,'title':ti,'studio':st,'city':\"Vancouver\"}\n",
    "        url_older=response.xpath('.//a[@class=\"next page-numbers\"]//@href').extract()\n",
    "        if (len(url_older))>0:\n",
    "            print (url_older)\n",
    "            abs_url=url_older[0]\n",
    "            print (abs_url )\n",
    "            yield scrapy.Request(abs_url) \n",
    "        else:\n",
    "            print(\"Last element\")\n",
    "        return"
   ]
  },
  {
   "cell_type": "code",
   "execution_count": 17,
   "metadata": {},
   "outputs": [],
   "source": [
    "# In[7]:\n",
    "\n",
    "\n",
    "\n",
    "\n",
    "class QuotesSpider(scrapy.Spider):\n",
    "    name = \"quotes\"\n",
    "    start_urls = [\n",
    "        'https://www.torontovfxjobs.com/jobs/']\n",
    "    custom_settings = {\n",
    "        'LOG_LEVEL': logging.WARNING,\n",
    "        'ITEM_PIPELINES': {'__main__.JsonWriterPipeline': 1}, # Used for pipeline 1\n",
    "        'FEED_FORMAT':'json',                                 # Used for pipeline 2\n",
    "        'FEED_URI': 'quoterest.json'                        # Used for pipeline 2\n",
    "    }\n",
    "    \n",
    "    def parse(self, response):\n",
    "        for sel in response.xpath(\"//header[@class='entry-header']\"):\n",
    "            print( sel)\n",
    "            item = DmozItem()\n",
    "            item[\"date\"] = sel.xpath('''.//div[@class='meta-below-title']//time[@class=\"dt-published published entry-date\"]//text()''').extract()       \n",
    "            item[\"title\"]= sel.xpath(\".//a[@class='entry-title-passthrough']/text()\").extract()\n",
    "            item[\"studio\"]= sel.xpath(\".//a[@class='entry-title-passthrough']/@href\").extract()\n",
    "\n",
    "            print( item)\n",
    "            if len(item[\"date\"])==0:\n",
    "                item[\"date\"].append(\"jan 1, 2018\")\n",
    "            if len(item[\"title\"])==0:\n",
    "                item[\"title\"].append(\"none\")\n",
    "            if len(item[\"studio\"])==0:\n",
    "                item[\"studio\"].append(\"none\")      \n",
    "            dat=item[\"date\"][0]\n",
    "            ti=item[\"title\"][0]\n",
    "            st=item[\"studio\"][0]\n",
    "\n",
    "            \n",
    "            yield {'date':dat,'title':ti,'studio':st,'city':\"Toronto\"}\n",
    "        url_older=response.xpath('//div[@class=\"older\"]//@href').extract()\n",
    "        if (len(url_older))>0:\n",
    "            print (url_older)\n",
    "            abs_url=response.urljoin(url_older[0].split(\"/\")[-1])\n",
    "            print (abs_url )\n",
    "            yield scrapy.Request(abs_url) \n",
    "        else:\n",
    "            print(\"Last element\")\n",
    "        return"
   ]
  },
  {
   "cell_type": "code",
   "execution_count": 18,
   "metadata": {},
   "outputs": [],
   "source": [
    "# In[8]:\n",
    "\n",
    "\n",
    "# In[6]:\n",
    "\n",
    "\n",
    "class JobSpider(scrapy.Spider):\n",
    "    name = 'job'\n",
    "    allowed_domains = ['vfx-montreal.com/jobs/']\n",
    "    start_urls = ['http://vfx-montreal.com/jobs/']\n",
    "    custom_settings = {\n",
    "        'LOG_LEVEL': logging.WARNING,\n",
    "        'ITEM_PIPELINES': {'__main__.JsonWriterPipeline2': 1}, # Used for pipeline 1\n",
    "        'FEED_FORMAT':'json',                                 # Used for pipeline 2\n",
    "        'FEED_URI': 'quoterest2.json'  }                      # Used for pipe\n",
    "    def parse(self, response):\n",
    "        blocks=response.xpath('//div[@class=\"mk-text-block  \"]')\n",
    "        i=0\n",
    "        for block in blocks:\n",
    "            titleJob=block.xpath ('.//div[@class=\"vfx-job-list-item-title\"]/a/text()').extract_first()\n",
    "            dateJob=block.xpath ('.//div[@class=\"vfx-job-list-item-end-date\"]/text()').extract_first()\n",
    "            studioJob=block.xpath ('.//div[@class=\"vfx-job-list-item-studio-name\"]/a/@href').extract_first()\n",
    "            i=i+1\n",
    "            dateJobForm=dateJob.replace(\"Published: \",'')\n",
    "            try:\n",
    "                print (titleJob)\n",
    "                print (dateJob)\n",
    "                print (studioJob)\n",
    "                yield {'date':dateJobForm,'title':titleJob,'studio':studioJob,'city':\"Montreal\"}\n",
    "\n",
    "            except:\n",
    "                print('i')"
   ]
  },
  {
   "cell_type": "code",
   "execution_count": 19,
   "metadata": {},
   "outputs": [
    {
     "name": "stdout",
     "output_type": "stream",
     "text": [
      "1:Read local data\n",
      "2:Read online data\n",
      "Choose a number2\n"
     ]
    },
    {
     "data": {
      "text/plain": [
       "0"
      ]
     },
     "execution_count": 19,
     "metadata": {},
     "output_type": "execute_result"
    },
    {
     "data": {
      "text/plain": [
       "0"
      ]
     },
     "execution_count": 19,
     "metadata": {},
     "output_type": "execute_result"
    },
    {
     "data": {
      "text/plain": [
       "0"
      ]
     },
     "execution_count": 19,
     "metadata": {},
     "output_type": "execute_result"
    },
    {
     "data": {
      "text/plain": [
       "0"
      ]
     },
     "execution_count": 19,
     "metadata": {},
     "output_type": "execute_result"
    },
    {
     "data": {
      "text/plain": [
       "0"
      ]
     },
     "execution_count": 19,
     "metadata": {},
     "output_type": "execute_result"
    },
    {
     "data": {
      "text/plain": [
       "0"
      ]
     },
     "execution_count": 19,
     "metadata": {},
     "output_type": "execute_result"
    },
    {
     "name": "stderr",
     "output_type": "stream",
     "text": [
      "2018-07-17 15:17:48 [scrapy.utils.log] INFO: Scrapy 1.5.0 started (bot: scrapybot)\n",
      "2018-07-17 15:17:48 [scrapy.utils.log] INFO: Versions: lxml 4.2.3.0, libxml2 2.9.5, cssselect 1.0.3, parsel 1.4.0, w3lib 1.19.0, Twisted 18.7.0, Python 3.5.2 (v3.5.2:4def2a2901a5, Jun 25 2016, 22:18:55) [MSC v.1900 64 bit (AMD64)], pyOpenSSL 18.0.0 (OpenSSL 1.1.0h  27 Mar 2018), cryptography 2.2.2, Platform Windows-10-10.0.16299-SP0\n",
      "2018-07-17 15:17:48 [scrapy.crawler] INFO: Overridden settings: {'USER_AGENT': 'Mozilla/4.0 (compatible; MSIE 7.0; Windows NT 5.1)', 'FEED_URI': 'quoterest.json', 'FEED_FORMAT': 'json', 'LOG_LEVEL': 30}\n"
     ]
    },
    {
     "data": {
      "text/plain": [
       "<Deferred at 0x1d6855f5a90>"
      ]
     },
     "execution_count": 19,
     "metadata": {},
     "output_type": "execute_result"
    },
    {
     "data": {
      "text/plain": [
       "<Deferred at 0x1d68560a208>"
      ]
     },
     "execution_count": 19,
     "metadata": {},
     "output_type": "execute_result"
    },
    {
     "data": {
      "text/plain": [
       "<Deferred at 0x1d6856166a0>"
      ]
     },
     "execution_count": 19,
     "metadata": {},
     "output_type": "execute_result"
    },
    {
     "ename": "ReactorNotRestartable",
     "evalue": "",
     "output_type": "error",
     "traceback": [
      "\u001b[1;31m---------------------------------------------------------------------------\u001b[0m",
      "\u001b[1;31mReactorNotRestartable\u001b[0m                     Traceback (most recent call last)",
      "\u001b[1;32m<ipython-input-19-80f65c1fdd2d>\u001b[0m in \u001b[0;36m<module>\u001b[1;34m()\u001b[0m\n\u001b[0;32m     32\u001b[0m \u001b[0mprocess\u001b[0m\u001b[1;33m.\u001b[0m\u001b[0mcrawl\u001b[0m\u001b[1;33m(\u001b[0m\u001b[0mJobSpider\u001b[0m\u001b[1;33m)\u001b[0m\u001b[1;33m\u001b[0m\u001b[0m\n\u001b[0;32m     33\u001b[0m \u001b[0mprocess\u001b[0m\u001b[1;33m.\u001b[0m\u001b[0mcrawl\u001b[0m\u001b[1;33m(\u001b[0m\u001b[0mQuotesSpiderVan\u001b[0m\u001b[1;33m)\u001b[0m\u001b[1;33m\u001b[0m\u001b[0m\n\u001b[1;32m---> 34\u001b[1;33m \u001b[0mprocess\u001b[0m\u001b[1;33m.\u001b[0m\u001b[0mstart\u001b[0m\u001b[1;33m(\u001b[0m\u001b[1;33m)\u001b[0m\u001b[1;33m\u001b[0m\u001b[0m\n\u001b[0m",
      "\u001b[1;32mc:\\python352\\lib\\site-packages\\scrapy\\crawler.py\u001b[0m in \u001b[0;36mstart\u001b[1;34m(self, stop_after_crawl)\u001b[0m\n\u001b[0;32m    289\u001b[0m         \u001b[0mtp\u001b[0m\u001b[1;33m.\u001b[0m\u001b[0madjustPoolsize\u001b[0m\u001b[1;33m(\u001b[0m\u001b[0mmaxthreads\u001b[0m\u001b[1;33m=\u001b[0m\u001b[0mself\u001b[0m\u001b[1;33m.\u001b[0m\u001b[0msettings\u001b[0m\u001b[1;33m.\u001b[0m\u001b[0mgetint\u001b[0m\u001b[1;33m(\u001b[0m\u001b[1;34m'REACTOR_THREADPOOL_MAXSIZE'\u001b[0m\u001b[1;33m)\u001b[0m\u001b[1;33m)\u001b[0m\u001b[1;33m\u001b[0m\u001b[0m\n\u001b[0;32m    290\u001b[0m         \u001b[0mreactor\u001b[0m\u001b[1;33m.\u001b[0m\u001b[0maddSystemEventTrigger\u001b[0m\u001b[1;33m(\u001b[0m\u001b[1;34m'before'\u001b[0m\u001b[1;33m,\u001b[0m \u001b[1;34m'shutdown'\u001b[0m\u001b[1;33m,\u001b[0m \u001b[0mself\u001b[0m\u001b[1;33m.\u001b[0m\u001b[0mstop\u001b[0m\u001b[1;33m)\u001b[0m\u001b[1;33m\u001b[0m\u001b[0m\n\u001b[1;32m--> 291\u001b[1;33m         \u001b[0mreactor\u001b[0m\u001b[1;33m.\u001b[0m\u001b[0mrun\u001b[0m\u001b[1;33m(\u001b[0m\u001b[0minstallSignalHandlers\u001b[0m\u001b[1;33m=\u001b[0m\u001b[1;32mFalse\u001b[0m\u001b[1;33m)\u001b[0m  \u001b[1;31m# blocking call\u001b[0m\u001b[1;33m\u001b[0m\u001b[0m\n\u001b[0m\u001b[0;32m    292\u001b[0m \u001b[1;33m\u001b[0m\u001b[0m\n\u001b[0;32m    293\u001b[0m     \u001b[1;32mdef\u001b[0m \u001b[0m_get_dns_resolver\u001b[0m\u001b[1;33m(\u001b[0m\u001b[0mself\u001b[0m\u001b[1;33m)\u001b[0m\u001b[1;33m:\u001b[0m\u001b[1;33m\u001b[0m\u001b[0m\n",
      "\u001b[1;32mc:\\python352\\lib\\site-packages\\twisted\\internet\\base.py\u001b[0m in \u001b[0;36mrun\u001b[1;34m(self, installSignalHandlers)\u001b[0m\n\u001b[0;32m   1258\u001b[0m \u001b[1;33m\u001b[0m\u001b[0m\n\u001b[0;32m   1259\u001b[0m     \u001b[1;32mdef\u001b[0m \u001b[0mrun\u001b[0m\u001b[1;33m(\u001b[0m\u001b[0mself\u001b[0m\u001b[1;33m,\u001b[0m \u001b[0minstallSignalHandlers\u001b[0m\u001b[1;33m=\u001b[0m\u001b[1;32mTrue\u001b[0m\u001b[1;33m)\u001b[0m\u001b[1;33m:\u001b[0m\u001b[1;33m\u001b[0m\u001b[0m\n\u001b[1;32m-> 1260\u001b[1;33m         \u001b[0mself\u001b[0m\u001b[1;33m.\u001b[0m\u001b[0mstartRunning\u001b[0m\u001b[1;33m(\u001b[0m\u001b[0minstallSignalHandlers\u001b[0m\u001b[1;33m=\u001b[0m\u001b[0minstallSignalHandlers\u001b[0m\u001b[1;33m)\u001b[0m\u001b[1;33m\u001b[0m\u001b[0m\n\u001b[0m\u001b[0;32m   1261\u001b[0m         \u001b[0mself\u001b[0m\u001b[1;33m.\u001b[0m\u001b[0mmainLoop\u001b[0m\u001b[1;33m(\u001b[0m\u001b[1;33m)\u001b[0m\u001b[1;33m\u001b[0m\u001b[0m\n\u001b[0;32m   1262\u001b[0m \u001b[1;33m\u001b[0m\u001b[0m\n",
      "\u001b[1;32mc:\\python352\\lib\\site-packages\\twisted\\internet\\base.py\u001b[0m in \u001b[0;36mstartRunning\u001b[1;34m(self, installSignalHandlers)\u001b[0m\n\u001b[0;32m   1238\u001b[0m         \"\"\"\n\u001b[0;32m   1239\u001b[0m         \u001b[0mself\u001b[0m\u001b[1;33m.\u001b[0m\u001b[0m_installSignalHandlers\u001b[0m \u001b[1;33m=\u001b[0m \u001b[0minstallSignalHandlers\u001b[0m\u001b[1;33m\u001b[0m\u001b[0m\n\u001b[1;32m-> 1240\u001b[1;33m         \u001b[0mReactorBase\u001b[0m\u001b[1;33m.\u001b[0m\u001b[0mstartRunning\u001b[0m\u001b[1;33m(\u001b[0m\u001b[0mself\u001b[0m\u001b[1;33m)\u001b[0m\u001b[1;33m\u001b[0m\u001b[0m\n\u001b[0m\u001b[0;32m   1241\u001b[0m \u001b[1;33m\u001b[0m\u001b[0m\n\u001b[0;32m   1242\u001b[0m \u001b[1;33m\u001b[0m\u001b[0m\n",
      "\u001b[1;32mc:\\python352\\lib\\site-packages\\twisted\\internet\\base.py\u001b[0m in \u001b[0;36mstartRunning\u001b[1;34m(self)\u001b[0m\n\u001b[0;32m    746\u001b[0m             \u001b[1;32mraise\u001b[0m \u001b[0merror\u001b[0m\u001b[1;33m.\u001b[0m\u001b[0mReactorAlreadyRunning\u001b[0m\u001b[1;33m(\u001b[0m\u001b[1;33m)\u001b[0m\u001b[1;33m\u001b[0m\u001b[0m\n\u001b[0;32m    747\u001b[0m         \u001b[1;32mif\u001b[0m \u001b[0mself\u001b[0m\u001b[1;33m.\u001b[0m\u001b[0m_startedBefore\u001b[0m\u001b[1;33m:\u001b[0m\u001b[1;33m\u001b[0m\u001b[0m\n\u001b[1;32m--> 748\u001b[1;33m             \u001b[1;32mraise\u001b[0m \u001b[0merror\u001b[0m\u001b[1;33m.\u001b[0m\u001b[0mReactorNotRestartable\u001b[0m\u001b[1;33m(\u001b[0m\u001b[1;33m)\u001b[0m\u001b[1;33m\u001b[0m\u001b[0m\n\u001b[0m\u001b[0;32m    749\u001b[0m         \u001b[0mself\u001b[0m\u001b[1;33m.\u001b[0m\u001b[0m_started\u001b[0m \u001b[1;33m=\u001b[0m \u001b[1;32mTrue\u001b[0m\u001b[1;33m\u001b[0m\u001b[0m\n\u001b[0;32m    750\u001b[0m         \u001b[0mself\u001b[0m\u001b[1;33m.\u001b[0m\u001b[0m_stopped\u001b[0m \u001b[1;33m=\u001b[0m \u001b[1;32mFalse\u001b[0m\u001b[1;33m\u001b[0m\u001b[0m\n",
      "\u001b[1;31mReactorNotRestartable\u001b[0m: "
     ]
    }
   ],
   "source": [
    "# In[15]:\n",
    "\n",
    "\n",
    "import pandas as pd\n",
    "import matplotlib as mp\n",
    "import os\n",
    "print(\"1:Read local data\"+\"\\n\"+\"2:Read online data\")\n",
    "nb= input(\"Choose a number\")\n",
    "if nb==\"2\":\n",
    "    file='quoterest.json'\n",
    "    raw = open(file, \"w+\")\n",
    "    raw.seek(0)                       \n",
    "    raw.truncate()\n",
    "    raw.close()\n",
    "    file= 'quoterest2.json'\n",
    "    raw = open(file, \"w+\")\n",
    "    raw.seek(0)                       \n",
    "    raw.truncate()\n",
    "    raw.close()\n",
    "    file= 'quoterest3.json'\n",
    "    raw = open(file, \"w+\")\n",
    "    raw.seek(0)                       \n",
    "    raw.truncate()\n",
    "    raw.close()\n",
    "\n",
    "\n",
    "process = CrawlerProcess({\n",
    "    'USER_AGENT': 'Mozilla/4.0 (compatible; MSIE 7.0; Windows NT 5.1)'\n",
    "})\n",
    "\n",
    "process.crawl(QuotesSpider)\n",
    "process.crawl(JobSpider)\n",
    "process.crawl(QuotesSpiderVan)\n",
    "process.start()"
   ]
  },
  {
   "cell_type": "code",
   "execution_count": null,
   "metadata": {},
   "outputs": [],
   "source": [
    "# In[13]:\n",
    "\n",
    "\n",
    "dfjson = pd.read_json('quoterest.json')\n",
    "\n",
    "print(dfjson)\n",
    "\n",
    "\n",
    "dfjson2= pd.read_json('quoterest2.json')\n",
    "\n",
    "print(dfjson2)\n",
    "dfjson3= pd.read_json('quoterest3.json')\n",
    "\n",
    "print(dfjson3)"
   ]
  },
  {
   "cell_type": "code",
   "execution_count": null,
   "metadata": {},
   "outputs": [],
   "source": [
    "# In[16]:\n",
    "\n",
    "\n",
    "\n",
    "if nb==\"1\":\n",
    "    fLoc=open('quoterest.json','r')\n",
    "    fLoc2=open('quoterest2.json',\"r\")\n",
    "    fLoc3=open('quoterest3.json',\"r\")\n",
    "    fSize=os.stat('quoterest.json').st_size\n",
    "    fSize2=os.stat('quoterest2.json').st_size\n",
    "    fSize3=os.stat('quoterest3.json').st_size\n",
    "    if (fSize!=0)&(fSize2!=0)&(fSize3!=0):\n",
    "        dfjson = pd.read_json(fLoc)\n",
    "        dfjsonConv=pd.to_datetime(dfjson['date'],infer_datetime_format=True)\n",
    "        print(dfjsonConv)\n",
    "\n",
    "\n",
    "        dfjson2= pd.read_json(fLoc2)\n",
    "\n",
    "        print(dfjson2)\n",
    "        dfjson3= pd.read_json(fLoc3)\n",
    "\n",
    "        print(dfjson3)\n",
    "\n",
    "        frames=[dfjson,dfjson2,dfjson3]\n",
    "        dfConcat=pd.concat(frames)\n",
    "        dfConcat.index=dfConcat['date']\n",
    "        dfConcatRes=dfConcat.sort_index()\n",
    "\n",
    "        print(dfConcatRes)\n",
    "        dfNewComp=dfConcatRes[dfConcatRes[\"title\"].str.contains(\"Compositor|compsitor|Comper|COMPOSITOR\")]\n",
    "        print(dfNewComp)\n",
    "        dfNewComp.to_pickle(\"comper.pkl\")\n",
    "        dfNewGen=dfConcatRes[dfConcatRes['title'].str.contains(\"Generalist|GENERALIST\")]\n",
    "        print(dfNewGen)\n",
    "        dfNewSup=dfConcatRes[dfConcatRes['title'].str.contains(\"Supervisor|SUPERVISOR\")]\n",
    "        print(dfNewSup)\n",
    "        dfNewMan=dfConcatRes[dfConcatRes['title'].str.contains(\"Manager|Producer\")]\n",
    "        print(dfNewMan)\n",
    "        dfNewTra=dfConcatRes[dfConcatRes['title'].str.contains(\"Tracking|Camera|Tracker|Matcmove|Matcmover\")]\n",
    "        print(dfNewTra)\n",
    "        dfNewPai=dfConcatRes[dfConcatRes['title'].str.contains(\"PAINTER|Painter|painter|Matte|MATTE\")]\n",
    "        print(dfNewPai)\n",
    "        dfNewAni=dfConcatRes[dfConcatRes['title'].str.contains(\"Animator|Animation|Rigger|RIGGER|Rig\")]\n",
    "        print(dfNewAni)\n",
    "        dfNewMod=dfConcatRes[dfConcatRes['title'].str.contains(\"Modeller|MODELLER|Modeler\")]\n",
    "        print(dfNewMod)\n",
    "        dfNewComp.groupby(dfNewComp[\"date\"].dt.month).count().plot(kind=\"bar\")\n",
    "\n",
    "else:\n",
    "    print(\"fileEmpty\")"
   ]
  },
  {
   "cell_type": "code",
   "execution_count": null,
   "metadata": {},
   "outputs": [],
   "source": [
    "# In[18]:\n",
    "\n",
    "\n",
    "dfNewComp.groupby(dfNewComp[\"date\"].dt.year).count().plot(kind=\"bar\")\n",
    "\n",
    "\n",
    "# In[ ]:\n",
    "\n",
    "\n",
    "dfConcatRes.groupby(dfConcatRes[\"date\"].dt.year).count().plot(kind=\"bar\")"
   ]
  },
  {
   "cell_type": "code",
   "execution_count": null,
   "metadata": {},
   "outputs": [],
   "source": []
  },
  {
   "cell_type": "code",
   "execution_count": null,
   "metadata": {},
   "outputs": [],
   "source": []
  },
  {
   "cell_type": "code",
   "execution_count": null,
   "metadata": {},
   "outputs": [],
   "source": []
  }
 ],
 "metadata": {
  "kernelspec": {
   "display_name": "Python 3",
   "language": "python",
   "name": "python3"
  }
 },
 "nbformat": 4,
 "nbformat_minor": 2
}
